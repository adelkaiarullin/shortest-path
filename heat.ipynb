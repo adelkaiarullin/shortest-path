{
 "cells": [
  {
   "cell_type": "code",
   "execution_count": 1,
   "metadata": {},
   "outputs": [],
   "source": [
    "import numpy as np\n",
    "import torch\n",
    "from torch.utils.dlpack import to_dlpack, from_dlpack\n",
    "import cupy as cu\n",
    "from cupyx import scipy\n",
    "import matplotlib.pyplot as plt\n",
    "import seaborn as sns\n",
    "import time"
   ]
  },
  {
   "cell_type": "code",
   "execution_count": 2,
   "metadata": {},
   "outputs": [],
   "source": [
    "%matplotlib inline"
   ]
  },
  {
   "cell_type": "code",
   "execution_count": 3,
   "metadata": {},
   "outputs": [
    {
     "data": {
      "text/plain": [
       "'cuda'"
      ]
     },
     "execution_count": 3,
     "metadata": {},
     "output_type": "execute_result"
    }
   ],
   "source": [
    "device = 'cuda' if torch.cuda.is_available() else 'cpu'\n",
    "device"
   ]
  },
  {
   "cell_type": "code",
   "execution_count": 4,
   "metadata": {},
   "outputs": [
    {
     "data": {
      "text/plain": [
       "tensor([[0., 0., 0.,  ..., 0., 0., 0.],\n",
       "        [0., 0., 0.,  ..., 0., 0., 0.],\n",
       "        [0., 0., 0.,  ..., 0., 0., 0.],\n",
       "        ...,\n",
       "        [0., 0., 0.,  ..., 0., 0., 0.],\n",
       "        [0., 0., 0.,  ..., 0., 0., 0.],\n",
       "        [0., 0., 0.,  ..., 0., 0., 0.]], device='cuda:0')"
      ]
     },
     "execution_count": 4,
     "metadata": {},
     "output_type": "execute_result"
    }
   ],
   "source": [
    "W = 1000\n",
    "H = 100\n",
    "N = W * H\n",
    "arr = torch.zeros(H, W, device=device, dtype=torch.float32)\n",
    "arr[25:50, 25:50] = 10# + torch.rand(25, 25) * 10\n",
    "arr[30:45, 30:45] = 30\n",
    "arr[35:40, 35:40] = 50\n",
    "arr[37:39, 37:39] = 60\n",
    "arr"
   ]
  },
  {
   "cell_type": "code",
   "execution_count": 5,
   "metadata": {},
   "outputs": [
    {
     "data": {
      "text/plain": [
       "<matplotlib.image.AxesImage at 0x7f7e620cd400>"
      ]
     },
     "execution_count": 5,
     "metadata": {},
     "output_type": "execute_result"
    },
    {
     "data": {
      "image/png": "[encoded data removed]",
      "text/plain": [
       "<Figure size 432x288 with 1 Axes>"
      ]
     },
     "metadata": {
      "needs_background": "light"
     },
     "output_type": "display_data"
    }
   ],
   "source": [
    "plt.imshow(arr.cpu().numpy())"
   ]
  },
  {
   "cell_type": "code",
   "execution_count": 6,
   "metadata": {},
   "outputs": [],
   "source": [
    "cust_filter = torch.tensor([[[0, 1, 0], [0, -1, 0], [0, 0, 0]], \n",
    "                            [[0, 0, 0], [0, -1, 1], [0, 0, 0]],\n",
    "                            [[0, 0, 0], [0, -1, 0], [0, 1, 0]],\n",
    "                            [[0, 0, 0], [1, -1, 0], [0, 0, 0]]], device=device, dtype=torch.float32)"
   ]
  },
  {
   "cell_type": "code",
   "execution_count": 7,
   "metadata": {},
   "outputs": [
    {
     "data": {
      "text/plain": [
       "(tensor([[[ 0.,  1.,  0.],\n",
       "          [ 0., -1.,  0.],\n",
       "          [ 0.,  0.,  0.]],\n",
       " \n",
       "         [[ 0.,  0.,  0.],\n",
       "          [ 0., -1.,  1.],\n",
       "          [ 0.,  0.,  0.]],\n",
       " \n",
       "         [[ 0.,  0.,  0.],\n",
       "          [ 0., -1.,  0.],\n",
       "          [ 0.,  1.,  0.]],\n",
       " \n",
       "         [[ 0.,  0.,  0.],\n",
       "          [ 1., -1.,  0.],\n",
       "          [ 0.,  0.,  0.]]], device='cuda:0'),\n",
       " torch.Size([4, 3, 3]))"
      ]
     },
     "execution_count": 7,
     "metadata": {},
     "output_type": "execute_result"
    }
   ],
   "source": [
    "cust_filter, cust_filter.shape"
   ]
  },
  {
   "cell_type": "code",
   "execution_count": 8,
   "metadata": {},
   "outputs": [
    {
     "data": {
      "text/plain": [
       "(tensor([[[0., 0., 0.,  ..., 0., 0., 0.],\n",
       "          [0., 0., 0.,  ..., 0., 0., 0.],\n",
       "          [0., 0., 0.,  ..., 0., 0., 0.],\n",
       "          ...,\n",
       "          [0., 0., 0.,  ..., 0., 0., 0.],\n",
       "          [0., 0., 0.,  ..., 0., 0., 0.],\n",
       "          [0., 0., 0.,  ..., 0., 0., 0.]],\n",
       " \n",
       "         [[0., 0., 0.,  ..., 0., 0., 0.],\n",
       "          [0., 0., 0.,  ..., 0., 0., 0.],\n",
       "          [0., 0., 0.,  ..., 0., 0., 0.],\n",
       "          ...,\n",
       "          [0., 0., 0.,  ..., 0., 0., 0.],\n",
       "          [0., 0., 0.,  ..., 0., 0., 0.],\n",
       "          [0., 0., 0.,  ..., 0., 0., 0.]],\n",
       " \n",
       "         [[0., 0., 0.,  ..., 0., 0., 0.],\n",
       "          [0., 0., 0.,  ..., 0., 0., 0.],\n",
       "          [0., 0., 0.,  ..., 0., 0., 0.],\n",
       "          ...,\n",
       "          [0., 0., 0.,  ..., 0., 0., 0.],\n",
       "          [0., 0., 0.,  ..., 0., 0., 0.],\n",
       "          [0., 0., 0.,  ..., 0., 0., 0.]],\n",
       " \n",
       "         [[0., 0., 0.,  ..., 0., 0., 0.],\n",
       "          [0., 0., 0.,  ..., 0., 0., 0.],\n",
       "          [0., 0., 0.,  ..., 0., 0., 0.],\n",
       "          ...,\n",
       "          [0., 0., 0.,  ..., 0., 0., 0.],\n",
       "          [0., 0., 0.,  ..., 0., 0., 0.],\n",
       "          [0., 0., 0.,  ..., 0., 0., 0.]]], device='cuda:0'),\n",
       " torch.Size([4, 100, 1000]))"
      ]
     },
     "execution_count": 8,
     "metadata": {},
     "output_type": "execute_result"
    }
   ],
   "source": [
    "vectors = torch.nn.functional.conv2d(input=arr[None, None, ...], weight=cust_filter[:, None], padding=1)\n",
    "vectors = vectors[0]\n",
    "vectors[0, 0, :] = 0\n",
    "vectors[1, :, -1] = 0\n",
    "vectors[2, -1, :] = 0\n",
    "vectors[3, :, 0] = 0\n",
    "vectors, vectors.shape"
   ]
  },
  {
   "cell_type": "code",
   "execution_count": 9,
   "metadata": {},
   "outputs": [
    {
     "data": {
      "image/png": "[encoded data removed]",
      "text/plain": [
       "<Figure size 1296x864 with 4 Axes>"
      ]
     },
     "metadata": {
      "needs_background": "light"
     },
     "output_type": "display_data"
    }
   ],
   "source": [
    "plt.rcParams['figure.figsize'] = [18, 12]\n",
    "for i in range(4):\n",
    "    plt.subplot(1, 4, i+1)\n",
    "    plt.imshow(vectors[i].cpu().numpy())"
   ]
  },
  {
   "cell_type": "code",
   "execution_count": 10,
   "metadata": {},
   "outputs": [],
   "source": [
    "square = torch.ones_like(vectors)\n",
    "square[:-1] += vectors[:-1] ** 2 + vectors[1:] ** 2\n",
    "square[-1] +=  vectors[0] ** 2 + vectors[-1] ** 2\n",
    "square = torch.sqrt(square) / 2"
   ]
  },
  {
   "cell_type": "code",
   "execution_count": 11,
   "metadata": {},
   "outputs": [
    {
     "data": {
      "text/plain": [
       "(tensor([[[0.5000, 0.5000, 0.5000,  ..., 0.5000, 0.5000, 0.5000],\n",
       "          [0.5000, 0.5000, 0.5000,  ..., 0.5000, 0.5000, 0.5000],\n",
       "          [0.5000, 0.5000, 0.5000,  ..., 0.5000, 0.5000, 0.5000],\n",
       "          ...,\n",
       "          [0.5000, 0.5000, 0.5000,  ..., 0.5000, 0.5000, 0.5000],\n",
       "          [0.5000, 0.5000, 0.5000,  ..., 0.5000, 0.5000, 0.5000],\n",
       "          [0.5000, 0.5000, 0.5000,  ..., 0.5000, 0.5000, 0.5000]],\n",
       " \n",
       "         [[0.5000, 0.5000, 0.5000,  ..., 0.5000, 0.5000, 0.5000],\n",
       "          [0.5000, 0.5000, 0.5000,  ..., 0.5000, 0.5000, 0.5000],\n",
       "          [0.5000, 0.5000, 0.5000,  ..., 0.5000, 0.5000, 0.5000],\n",
       "          ...,\n",
       "          [0.5000, 0.5000, 0.5000,  ..., 0.5000, 0.5000, 0.5000],\n",
       "          [0.5000, 0.5000, 0.5000,  ..., 0.5000, 0.5000, 0.5000],\n",
       "          [0.5000, 0.5000, 0.5000,  ..., 0.5000, 0.5000, 0.5000]],\n",
       " \n",
       "         [[0.5000, 0.5000, 0.5000,  ..., 0.5000, 0.5000, 0.5000],\n",
       "          [0.5000, 0.5000, 0.5000,  ..., 0.5000, 0.5000, 0.5000],\n",
       "          [0.5000, 0.5000, 0.5000,  ..., 0.5000, 0.5000, 0.5000],\n",
       "          ...,\n",
       "          [0.5000, 0.5000, 0.5000,  ..., 0.5000, 0.5000, 0.5000],\n",
       "          [0.5000, 0.5000, 0.5000,  ..., 0.5000, 0.5000, 0.5000],\n",
       "          [0.5000, 0.5000, 0.5000,  ..., 0.5000, 0.5000, 0.5000]],\n",
       " \n",
       "         [[0.5000, 0.5000, 0.5000,  ..., 0.5000, 0.5000, 0.5000],\n",
       "          [0.5000, 0.5000, 0.5000,  ..., 0.5000, 0.5000, 0.5000],\n",
       "          [0.5000, 0.5000, 0.5000,  ..., 0.5000, 0.5000, 0.5000],\n",
       "          ...,\n",
       "          [0.5000, 0.5000, 0.5000,  ..., 0.5000, 0.5000, 0.5000],\n",
       "          [0.5000, 0.5000, 0.5000,  ..., 0.5000, 0.5000, 0.5000],\n",
       "          [0.5000, 0.5000, 0.5000,  ..., 0.5000, 0.5000, 0.5000]]],\n",
       "        device='cuda:0'),\n",
       " torch.Size([4, 100, 1000]))"
      ]
     },
     "execution_count": 11,
     "metadata": {},
     "output_type": "execute_result"
    }
   ],
   "source": [
    "square, square.shape"
   ]
  },
  {
   "cell_type": "code",
   "execution_count": 12,
   "metadata": {},
   "outputs": [
    {
     "data": {
      "image/png": "[encoded data removed]",
      "text/plain": [
       "<Figure size 1296x864 with 4 Axes>"
      ]
     },
     "metadata": {
      "needs_background": "light"
     },
     "output_type": "display_data"
    }
   ],
   "source": [
    "for i in range(4):\n",
    "    plt.subplot(1, 4, i+1)\n",
    "    plt.imshow(square[i].cpu().numpy())"
   ]
  },
  {
   "cell_type": "code",
   "execution_count": 13,
   "metadata": {},
   "outputs": [],
   "source": [
    "square[0, 0, :] = 0\n",
    "square[1, :, -1] = 0\n",
    "square[2, -1, :] = 0\n",
    "square[3, :, 0] = 0"
   ]
  },
  {
   "cell_type": "code",
   "execution_count": 14,
   "metadata": {},
   "outputs": [],
   "source": [
    "vertex_area = square.sum(axis=0)"
   ]
  },
  {
   "cell_type": "code",
   "execution_count": 15,
   "metadata": {},
   "outputs": [
    {
     "data": {
      "text/plain": [
       "(tensor([[1.0000, 1.5000, 1.5000,  ..., 1.5000, 1.5000, 1.0000],\n",
       "         [1.5000, 2.0000, 2.0000,  ..., 2.0000, 2.0000, 1.5000],\n",
       "         [1.5000, 2.0000, 2.0000,  ..., 2.0000, 2.0000, 1.5000],\n",
       "         ...,\n",
       "         [1.5000, 2.0000, 2.0000,  ..., 2.0000, 2.0000, 1.5000],\n",
       "         [1.5000, 2.0000, 2.0000,  ..., 2.0000, 2.0000, 1.5000],\n",
       "         [1.0000, 1.5000, 1.5000,  ..., 1.5000, 1.5000, 1.0000]],\n",
       "        device='cuda:0'),\n",
       " torch.Size([100, 1000]))"
      ]
     },
     "execution_count": 15,
     "metadata": {},
     "output_type": "execute_result"
    }
   ],
   "source": [
    "vertex_area, vertex_area.shape"
   ]
  },
  {
   "cell_type": "code",
   "execution_count": 16,
   "metadata": {},
   "outputs": [
    {
     "data": {
      "text/plain": [
       "<matplotlib.image.AxesImage at 0x7f7e61d70898>"
      ]
     },
     "execution_count": 16,
     "metadata": {},
     "output_type": "execute_result"
    },
    {
     "data": {
      "image/png": "[encoded data removed]",
      "text/plain": [
       "<Figure size 1296x864 with 1 Axes>"
      ]
     },
     "metadata": {
      "needs_background": "light"
     },
     "output_type": "display_data"
    }
   ],
   "source": [
    "plt.imshow(vertex_area.cpu().numpy())"
   ]
  },
  {
   "cell_type": "code",
   "execution_count": 17,
   "metadata": {},
   "outputs": [],
   "source": [
    "del square, arr\n",
    "torch.cuda.empty_cache()"
   ]
  },
  {
   "cell_type": "code",
   "execution_count": 18,
   "metadata": {},
   "outputs": [],
   "source": [
    "cotangens = torch.zeros_like(vectors)\n",
    "cotangens[0] = 1 / torch.tan(torch.acos((1 + vectors[3] ** 2 - vectors[3] * vectors[0]) / (torch.sqrt(2 + (vectors[0] - vectors[3]) ** 2) * torch.sqrt(1 + vectors[3] ** 2))))\n",
    "cotangens[0] += 1 / torch.tan(torch.acos((1 + vectors[1] ** 2 - vectors[1] * vectors[0]) / (torch.sqrt(2 + (vectors[0] - vectors[1]) ** 2) * torch.sqrt(1 + vectors[1] ** 2))))\n",
    "\n",
    "cotangens[1] = 1 / torch.tan(torch.acos((1 + vectors[0] ** 2 - vectors[0] * vectors[1]) / (torch.sqrt(2 + (vectors[1] - vectors[0]) ** 2) * torch.sqrt(1 + vectors[0] ** 2))))\n",
    "cotangens[1] += 1 / torch.tan(torch.acos((1 + vectors[2] ** 2 - vectors[2] * vectors[1]) / (torch.sqrt(2 + (vectors[1] - vectors[2]) ** 2) * torch.sqrt(1 + vectors[2] ** 2))))\n",
    "\n",
    "cotangens[2] = 1 / torch.tan(torch.acos((1 + vectors[3] ** 2 - vectors[3] * vectors[2]) / (torch.sqrt(2 + (vectors[2] - vectors[3]) ** 2) * torch.sqrt(1 + vectors[3] ** 2))))\n",
    "cotangens[2] += 1 / torch.tan(torch.acos((1 + vectors[1] ** 2 - vectors[1] * vectors[2]) / (torch.sqrt(2 + (vectors[2] - vectors[1]) ** 2) * torch.sqrt(1 + vectors[1] ** 2))))\n",
    "\n",
    "cotangens[3] = 1 / torch.tan(torch.acos((1 + vectors[0] ** 2 - vectors[0] * vectors[3]) / (torch.sqrt(2 + (vectors[3] - vectors[0]) ** 2) * torch.sqrt(1 + vectors[0] ** 2))))\n",
    "cotangens[3] += 1 / torch.tan(torch.acos((1 + vectors[2] ** 2 - vectors[2] * vectors[3]) / (torch.sqrt(2 + (vectors[3] - vectors[2]) ** 2) * torch.sqrt(1 + vectors[2] ** 2))))\n",
    "\n",
    "cotangens[0, 0, :] = 0\n",
    "cotangens[1, :, -1] = 0\n",
    "cotangens[2, -1, :] = 0\n",
    "cotangens[3, :, 0] = 0"
   ]
  },
  {
   "cell_type": "code",
   "execution_count": 19,
   "metadata": {},
   "outputs": [],
   "source": [
    "main_i = torch.arange(end=N, device=device)\n",
    "upper_edge_i = torch.arange(start=W, end=N, device=device)\n",
    "right_edge_i = main_i[cotangens[1].view(-1) != 0]\n",
    "left_edge_i = main_i[cotangens[3].view(-1) != 0]\n",
    "down_edge_i = torch.arange(start=0, end=N-W, device=device)"
   ]
  },
  {
   "cell_type": "code",
   "execution_count": 20,
   "metadata": {},
   "outputs": [],
   "source": [
    "main_v = cotangens.sum(axis=0).view(-1)\n",
    "upper_edge_v = cotangens[0].view(-1)[upper_edge_i]\n",
    "right_edge_v = cotangens[1].view(-1)[right_edge_i]\n",
    "down_edge_v = cotangens[2].view(-1)[down_edge_i]\n",
    "left_edge_v = cotangens[3].view(-1)[left_edge_i]"
   ]
  },
  {
   "cell_type": "code",
   "execution_count": 21,
   "metadata": {},
   "outputs": [],
   "source": [
    "# cu.cuda.Device(0).use()\n",
    "\n",
    "main_v = cu.fromDlpack(to_dlpack(main_v))\n",
    "main_i = cu.fromDlpack(to_dlpack(main_i))\n",
    "\n",
    "upper_edge_v = cu.fromDlpack(to_dlpack(upper_edge_v))\n",
    "upper_edge_i = cu.fromDlpack(to_dlpack(upper_edge_i))\n",
    "\n",
    "right_edge_v = cu.fromDlpack(to_dlpack(right_edge_v))\n",
    "right_edge_i = cu.fromDlpack(to_dlpack(right_edge_i))\n",
    "\n",
    "down_edge_v = cu.fromDlpack(to_dlpack(down_edge_v))\n",
    "down_edge_i = cu.fromDlpack(to_dlpack(down_edge_i))\n",
    "\n",
    "\n",
    "left_edge_v = cu.fromDlpack(to_dlpack(left_edge_v))\n",
    "left_edge_i = cu.fromDlpack(to_dlpack(left_edge_i))"
   ]
  },
  {
   "cell_type": "code",
   "execution_count": 22,
   "metadata": {},
   "outputs": [],
   "source": [
    "upper_m = scipy.sparse.coo_matrix((upper_edge_v / 2, (upper_edge_i, main_i[:-W])), shape=(N, N))\n",
    "right_m = scipy.sparse.coo_matrix((right_edge_v / 2, (right_edge_i, right_edge_i + 1)), shape=(N, N))\n",
    "down_m = scipy.sparse.coo_matrix((down_edge_v / 2, (down_edge_i, main_i[W:])), shape=(N, N))\n",
    "left_m = scipy.sparse.coo_matrix((left_edge_v / 2, (left_edge_i, left_edge_i - 1)), shape=(N, N))\n",
    "main_m = scipy.sparse.diags(-main_v / 2)"
   ]
  },
  {
   "cell_type": "code",
   "execution_count": 23,
   "metadata": {},
   "outputs": [],
   "source": [
    "L = main_m + upper_m + right_m + down_m + left_m"
   ]
  },
  {
   "cell_type": "code",
   "execution_count": 24,
   "metadata": {},
   "outputs": [],
   "source": [
    "M = scipy.sparse.diags(cu.fromDlpack(to_dlpack(vertex_area.view(-1) / 3)))"
   ]
  },
  {
   "cell_type": "code",
   "execution_count": 25,
   "metadata": {},
   "outputs": [
    {
     "data": {
      "text/plain": [
       "(dtype('float32'), dtype('float32'))"
      ]
     },
     "execution_count": 25,
     "metadata": {},
     "output_type": "execute_result"
    }
   ],
   "source": [
    "M.dtype, L.dtype"
   ]
  },
  {
   "cell_type": "code",
   "execution_count": 26,
   "metadata": {},
   "outputs": [
    {
     "data": {
      "text/plain": [
       "dtype('float32')"
      ]
     },
     "execution_count": 26,
     "metadata": {},
     "output_type": "execute_result"
    }
   ],
   "source": [
    "b = cu.zeros(N, dtype=cu.float32)\n",
    "b[50 * W + 50] = 1\n",
    "# b[3*W+20] = 1\n",
    "b.dtype"
   ]
  },
  {
   "cell_type": "code",
   "execution_count": 27,
   "metadata": {},
   "outputs": [],
   "source": [
    "del main_m, upper_m, right_m, down_m, left_m\n",
    "del vertex_area\n",
    "del main_v, main_i, upper_edge_v, upper_edge_i, right_edge_v, right_edge_i, down_edge_v, down_edge_i, left_edge_v, left_edge_i\n",
    "torch.cuda.empty_cache()"
   ]
  },
  {
   "cell_type": "code",
   "execution_count": 28,
   "metadata": {},
   "outputs": [
    {
     "data": {
      "text/plain": [
       "11.790649175643921"
      ]
     },
     "execution_count": 28,
     "metadata": {},
     "output_type": "execute_result"
    },
    {
     "data": {
      "image/png": "[encoded data removed]",
      "text/plain": [
       "<Figure size 1296x864 with 8 Axes>"
      ]
     },
     "metadata": {
      "needs_background": "light"
     },
     "output_type": "display_data"
    }
   ],
   "source": [
    "# u = scipy.sparse.linalg.lsqr(M - L, b)\n",
    "# u = u[0]\n",
    "start = time.time()\n",
    "for i in range(4):\n",
    "    t = (0.1 +  50 * i)\n",
    "    u = scipy.sparse.linalg.lsqr(M - t * L, b)\n",
    "    u = u[0]\n",
    "    plt.subplot(2, 2, 1 + i)\n",
    "    sns.heatmap(cu.asnumpy((-t ** 0.5 * cu.log(u)).reshape(H, W)))\n",
    "\n",
    "end = time.time()\n",
    "end - start\n",
    "#     del u\n",
    "#     torch.cuda.empty_cache()"
   ]
  },
  {
   "cell_type": "code",
   "execution_count": 29,
   "metadata": {},
   "outputs": [
    {
     "data": {
      "text/plain": [
       "(array(0), 100000)"
      ]
     },
     "execution_count": 29,
     "metadata": {},
     "output_type": "execute_result"
    }
   ],
   "source": [
    "(u == 0).sum(), u.shape[0]"
   ]
  },
  {
   "cell_type": "code",
   "execution_count": 30,
   "metadata": {},
   "outputs": [],
   "source": [
    "# _ = plt.hist(cu.asnumpy(u.reshape(H, W).clip(0, 0.1)))"
   ]
  },
  {
   "cell_type": "code",
   "execution_count": 31,
   "metadata": {},
   "outputs": [],
   "source": [
    "vectors = cu.fromDlpack(to_dlpack(vectors))\n",
    "e1 = cu.zeros(shape=(3, H, W), dtype=cu.float32)\n",
    "e2 = cu.zeros(shape=(3, H, W,), dtype=cu.float32)\n",
    "\n",
    "e1[0, :, :] = -1\n",
    "e1[2, :, :] = vectors[0]\n",
    "e2[1:, :,] = 1\n",
    "e2[2:, :,] = vectors[1]\n",
    "cross_n1 = cu.cross(e1, e2, axis=0)\n",
    "\n",
    "e1[...] = 0\n",
    "e2[...] = 0\n",
    "\n",
    "e1[1, :, :] = 1\n",
    "e1[2, :, :] = vectors[1]\n",
    "e2[0:, :,] = 1\n",
    "e2[2:, :,] = vectors[2]\n",
    "cross_n2 = cu.cross(e1, e2, axis=0)\n",
    "\n",
    "e1[...] = 0\n",
    "e2[...] = 0\n",
    "\n",
    "e1[0, :, :] = 1\n",
    "e1[2, :, :] = vectors[2]\n",
    "e2[1:, :,] = -1\n",
    "e2[2:, :,] = vectors[3]\n",
    "cross_n3 = cu.cross(e1, e2, axis=0)\n",
    "\n",
    "e1[...] = 0\n",
    "e2[...] = 0\n",
    "\n",
    "e1[1, :, :] = -1\n",
    "e1[2, :, :] = vectors[3]\n",
    "e2[0:, :,] = -1\n",
    "e2[2:, :,] = vectors[0]\n",
    "cross_n4 = cu.cross(e1, e2, axis=0)"
   ]
  },
  {
   "cell_type": "code",
   "execution_count": 32,
   "metadata": {},
   "outputs": [],
   "source": [
    "cross_n = [cross_n1, cross_n2, cross_n3, cross_n4]"
   ]
  },
  {
   "cell_type": "code",
   "execution_count": 33,
   "metadata": {},
   "outputs": [],
   "source": [
    "u = from_dlpack(u.toDlpack())\n",
    "u = u.reshape(H, W)\n",
    "vectors = from_dlpack(vectors.toDlpack())"
   ]
  },
  {
   "cell_type": "code",
   "execution_count": 43,
   "metadata": {},
   "outputs": [],
   "source": [
    "def compute_gradient(kernel, u, cross_n, e1, e2, e3):\n",
    "    u_ = torch.nn.functional.conv2d(input=u, weight=kernel, padding=1)[0]\n",
    "    return u_[0] * torch.cross(cross_n, e1, dim=0) + u_[1] * torch.cross(cross_n, e2, dim=0) + u_[2] * torch.cross(cross_n, e3, dim=0)"
   ]
  },
  {
   "cell_type": "code",
   "execution_count": 44,
   "metadata": {},
   "outputs": [],
   "source": [
    "gradients = []\n",
    "kernels = [torch.tensor([[[0., 1., 0.], [0, 0, 0], [0, 0, 0]], \n",
    "                         [[0, 0, 0], [0., 0., 1.], [0, 0, 0]], \n",
    "                         [[0., 0., 0.], [0, 1, 0], [0, 0, 0]]], device=device, dtype=torch.float64),\n",
    "           torch.tensor([[[0., 0., 0.], [0, 0, 1], [0, 0, 0]], \n",
    "                         [[0., 0., 0.], [0, 0, 0], [0, 1, 0]], \n",
    "                         [[0, 0, 0], [0., 1., 0.], [0, 0, 0]]], device=device, dtype=torch.float64),\n",
    "           torch.tensor([[[0., 0., 0.], [0, 0, 0], [0, 1, 0]], \n",
    "                         [[0, 0, 0], [1., 0., 0.], [0, 0, 0]], \n",
    "                         [[0, 0, 0], [0., 1., 0.], [0, 0, 0]]], device=device, dtype=torch.float64),\n",
    "           torch.tensor([[[0, 0, 0], [1, 0, 0], [0., 0., 0.]], \n",
    "                         [[0, 1, 0], [0., 0., 0.], [0, 0, 0]], \n",
    "                         [[0., 0., 0.], [0, 1, 0], [0, 0, 0]]], device=device, dtype=torch.float64),\n",
    "          ]\n",
    "\n",
    "# e1 = from_dlpack(e1.toDlpack())\n",
    "# e2 = from_dlpack(e2.toDlpack())\n",
    "# e3 = torch.zeros_like(e2)\n",
    "\n",
    "index = {0:((-1, 0), (0, 1)) , 1: ((0, 1), (1, 0)), 2: ((1, 0), (0, -1)), 3: ((0, -1), (-1, 0))}\n",
    "\n",
    "for i, cross_e in enumerate(cross_n):\n",
    "    f_, s_ = index[i]\n",
    "    e1[0, ...] = f_[0]\n",
    "    e1[1, ...] = f_[1]\n",
    "    e2[0, ...] = s_[0]\n",
    "    e2[1, ...] = s_[1]\n",
    "    e3[0, ...] = f_[0]\n",
    "    e3[1, ...] = f_[1]\n",
    "    \n",
    "    e1[2] = -vectors[i % 4] + vectors[(i + 1) % 4]\n",
    "    e2[2] = -vectors[(i + 1) % 4]\n",
    "    e3[2] = -vectors[i % 4]\n",
    "    gradients.append(compute_gradient(kernels[i][:, None], u[None, None], from_dlpack(cross_e.toDlpack()), e1, e2, e3))"
   ]
  },
  {
   "cell_type": "code",
   "execution_count": 57,
   "metadata": {},
   "outputs": [],
   "source": [
    "gradients = [ -e / torch.norm(e, dim=0)[None] for e in gradients]"
   ]
  },
  {
   "cell_type": "code",
   "execution_count": 58,
   "metadata": {},
   "outputs": [
    {
     "data": {
      "text/plain": [
       "tensor([[[-0.7075, -0.7083, -0.7090,  ..., -0.7044, -0.7059, -0.0000],\n",
       "         [-0.4478, -0.4486, -0.4494,  ..., -0.4443, -0.4458, -0.0000],\n",
       "         [-0.4482, -0.4490, -0.4498,  ..., -0.4443, -0.4458, -0.0000],\n",
       "         ...,\n",
       "         [-0.4467, -0.4476, -0.4484,  ..., -0.4447, -0.4462, -0.0000],\n",
       "         [-0.4471, -0.4479, -0.4487,  ..., -0.4447, -0.4462, -0.0000],\n",
       "         [-0.4475, -0.4483, -0.4491,  ..., -0.4447, -0.4462, -0.0000]],\n",
       "\n",
       "        [[-0.7067, -0.7059, -0.7052,  ..., -0.7098, -0.7083, -1.0000],\n",
       "         [-0.8941, -0.8937, -0.8933,  ..., -0.8959, -0.8951, -1.0000],\n",
       "         [-0.8939, -0.8935, -0.8931,  ..., -0.8959, -0.8951, -1.0000],\n",
       "         ...,\n",
       "         [-0.8947, -0.8943, -0.8938,  ..., -0.8957, -0.8949, -1.0000],\n",
       "         [-0.8945, -0.8941, -0.8937,  ..., -0.8957, -0.8949, -1.0000],\n",
       "         [-0.8943, -0.8939, -0.8935,  ..., -0.8957, -0.8949, -1.0000]],\n",
       "\n",
       "        [[-0.0000, -0.0000, -0.0000,  ..., -0.0000, -0.0000, -0.0000],\n",
       "         [-0.0000, -0.0000, -0.0000,  ..., -0.0000, -0.0000, -0.0000],\n",
       "         [-0.0000, -0.0000, -0.0000,  ..., -0.0000, -0.0000, -0.0000],\n",
       "         ...,\n",
       "         [-0.0000, -0.0000, -0.0000,  ..., -0.0000, -0.0000, -0.0000],\n",
       "         [-0.0000, -0.0000, -0.0000,  ..., -0.0000, -0.0000, -0.0000],\n",
       "         [-0.0000, -0.0000, -0.0000,  ..., -0.0000, -0.0000, -0.0000]]],\n",
       "       device='cuda:0', dtype=torch.float64)"
      ]
     },
     "execution_count": 58,
     "metadata": {},
     "output_type": "execute_result"
    }
   ],
   "source": [
    "gradients[0]"
   ]
  },
  {
   "cell_type": "code",
   "execution_count": null,
   "metadata": {},
   "outputs": [],
   "source": []
  }
 ],
 "metadata": {
  "kernelspec": {
   "display_name": "Python 3",
   "language": "python",
   "name": "python3"
  },
  "language_info": {
   "codemirror_mode": {
    "name": "ipython",
    "version": 3
   },
   "file_extension": ".py",
   "mimetype": "text/x-python",
   "name": "python",
   "nbconvert_exporter": "python",
   "pygments_lexer": "ipython3",
   "version": "3.6.9"
  }
 },
 "nbformat": 4,
 "nbformat_minor": 4
}
