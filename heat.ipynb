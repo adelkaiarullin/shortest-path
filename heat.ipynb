{
 "cells": [
  {
   "cell_type": "code",
   "execution_count": 1,
   "metadata": {},
   "outputs": [],
   "source": [
    "import numpy as np\n",
    "import torch\n",
    "from torch.utils.dlpack import to_dlpack\n",
    "import cupy as cu\n",
    "from cupyx import scipy\n",
    "import matplotlib.pyplot as plt"
   ]
  },
  {
   "cell_type": "code",
   "execution_count": 2,
   "metadata": {},
   "outputs": [],
   "source": [
    "%matplotlib inline"
   ]
  },
  {
   "cell_type": "code",
   "execution_count": 3,
   "metadata": {},
   "outputs": [
    {
     "data": {
      "text/plain": [
       "'cuda:2'"
      ]
     },
     "execution_count": 3,
     "metadata": {},
     "output_type": "execute_result"
    }
   ],
   "source": [
    "device = 'cuda:2' if torch.cuda.is_available() else 'cpu'\n",
    "device"
   ]
  },
  {
   "cell_type": "code",
   "execution_count": 4,
   "metadata": {},
   "outputs": [
    {
     "data": {
      "text/plain": [
       "tensor([[0., 0., 0., 0., 0., 0., 0., 0., 0., 0.],\n",
       "        [0., 0., 0., 0., 0., 0., 0., 0., 0., 0.],\n",
       "        [0., 0., 1., 1., 1., 0., 0., 0., 0., 0.],\n",
       "        [0., 0., 1., 1., 1., 0., 0., 0., 0., 0.],\n",
       "        [0., 0., 1., 1., 1., 0., 0., 0., 0., 0.],\n",
       "        [0., 0., 0., 0., 0., 0., 0., 0., 0., 0.],\n",
       "        [0., 0., 0., 0., 0., 0., 0., 0., 0., 0.],\n",
       "        [0., 0., 0., 0., 0., 0., 0., 0., 0., 0.],\n",
       "        [0., 0., 0., 0., 0., 0., 0., 0., 0., 0.],\n",
       "        [0., 0., 0., 0., 0., 0., 0., 0., 0., 0.]], device='cuda:2')"
      ]
     },
     "execution_count": 4,
     "metadata": {},
     "output_type": "execute_result"
    }
   ],
   "source": [
    "W = 10\n",
    "H = 10\n",
    "N = W * H\n",
    "arr = torch.zeros(H, W, device=device) * 10\n",
    "arr[2:5, 2:5] = 1\n",
    "arr"
   ]
  },
  {
   "cell_type": "code",
   "execution_count": 5,
   "metadata": {},
   "outputs": [],
   "source": [
    "# plt.imshow(arr.cpu().numpy())"
   ]
  },
  {
   "cell_type": "code",
   "execution_count": 6,
   "metadata": {},
   "outputs": [],
   "source": [
    "cust_filter = torch.tensor([[[0, 1, 0], [0, -1, 0], [0, 0, 0]], \n",
    "                            [[0, 0, 0], [0, -1, 1], [0, 0, 0]],\n",
    "                            [[0, 0, 0], [0, -1, 0], [0, 1, 0]],\n",
    "                            [[0, 0, 0], [1, -1, 0], [0, 0, 0]]], device=device, dtype=torch.float)"
   ]
  },
  {
   "cell_type": "code",
   "execution_count": 7,
   "metadata": {},
   "outputs": [
    {
     "data": {
      "text/plain": [
       "(tensor([[[ 0.,  1.,  0.],\n",
       "          [ 0., -1.,  0.],\n",
       "          [ 0.,  0.,  0.]],\n",
       " \n",
       "         [[ 0.,  0.,  0.],\n",
       "          [ 0., -1.,  1.],\n",
       "          [ 0.,  0.,  0.]],\n",
       " \n",
       "         [[ 0.,  0.,  0.],\n",
       "          [ 0., -1.,  0.],\n",
       "          [ 0.,  1.,  0.]],\n",
       " \n",
       "         [[ 0.,  0.,  0.],\n",
       "          [ 1., -1.,  0.],\n",
       "          [ 0.,  0.,  0.]]], device='cuda:2'),\n",
       " torch.Size([4, 3, 3]))"
      ]
     },
     "execution_count": 7,
     "metadata": {},
     "output_type": "execute_result"
    }
   ],
   "source": [
    "cust_filter, cust_filter.shape"
   ]
  },
  {
   "cell_type": "code",
   "execution_count": 8,
   "metadata": {},
   "outputs": [
    {
     "data": {
      "text/plain": [
       "(tensor([[[ 0.,  0.,  0.,  0.,  0.,  0.,  0.,  0.,  0.,  0.],\n",
       "          [ 0.,  0.,  0.,  0.,  0.,  0.,  0.,  0.,  0.,  0.],\n",
       "          [ 0.,  0., -1., -1., -1.,  0.,  0.,  0.,  0.,  0.],\n",
       "          [ 0.,  0.,  0.,  0.,  0.,  0.,  0.,  0.,  0.,  0.],\n",
       "          [ 0.,  0.,  0.,  0.,  0.,  0.,  0.,  0.,  0.,  0.],\n",
       "          [ 0.,  0.,  1.,  1.,  1.,  0.,  0.,  0.,  0.,  0.],\n",
       "          [ 0.,  0.,  0.,  0.,  0.,  0.,  0.,  0.,  0.,  0.],\n",
       "          [ 0.,  0.,  0.,  0.,  0.,  0.,  0.,  0.,  0.,  0.],\n",
       "          [ 0.,  0.,  0.,  0.,  0.,  0.,  0.,  0.,  0.,  0.],\n",
       "          [ 0.,  0.,  0.,  0.,  0.,  0.,  0.,  0.,  0.,  0.]],\n",
       " \n",
       "         [[ 0.,  0.,  0.,  0.,  0.,  0.,  0.,  0.,  0.,  0.],\n",
       "          [ 0.,  0.,  0.,  0.,  0.,  0.,  0.,  0.,  0.,  0.],\n",
       "          [ 0.,  1.,  0.,  0., -1.,  0.,  0.,  0.,  0.,  0.],\n",
       "          [ 0.,  1.,  0.,  0., -1.,  0.,  0.,  0.,  0.,  0.],\n",
       "          [ 0.,  1.,  0.,  0., -1.,  0.,  0.,  0.,  0.,  0.],\n",
       "          [ 0.,  0.,  0.,  0.,  0.,  0.,  0.,  0.,  0.,  0.],\n",
       "          [ 0.,  0.,  0.,  0.,  0.,  0.,  0.,  0.,  0.,  0.],\n",
       "          [ 0.,  0.,  0.,  0.,  0.,  0.,  0.,  0.,  0.,  0.],\n",
       "          [ 0.,  0.,  0.,  0.,  0.,  0.,  0.,  0.,  0.,  0.],\n",
       "          [ 0.,  0.,  0.,  0.,  0.,  0.,  0.,  0.,  0.,  0.]],\n",
       " \n",
       "         [[ 0.,  0.,  0.,  0.,  0.,  0.,  0.,  0.,  0.,  0.],\n",
       "          [ 0.,  0.,  1.,  1.,  1.,  0.,  0.,  0.,  0.,  0.],\n",
       "          [ 0.,  0.,  0.,  0.,  0.,  0.,  0.,  0.,  0.,  0.],\n",
       "          [ 0.,  0.,  0.,  0.,  0.,  0.,  0.,  0.,  0.,  0.],\n",
       "          [ 0.,  0., -1., -1., -1.,  0.,  0.,  0.,  0.,  0.],\n",
       "          [ 0.,  0.,  0.,  0.,  0.,  0.,  0.,  0.,  0.,  0.],\n",
       "          [ 0.,  0.,  0.,  0.,  0.,  0.,  0.,  0.,  0.,  0.],\n",
       "          [ 0.,  0.,  0.,  0.,  0.,  0.,  0.,  0.,  0.,  0.],\n",
       "          [ 0.,  0.,  0.,  0.,  0.,  0.,  0.,  0.,  0.,  0.],\n",
       "          [ 0.,  0.,  0.,  0.,  0.,  0.,  0.,  0.,  0.,  0.]],\n",
       " \n",
       "         [[ 0.,  0.,  0.,  0.,  0.,  0.,  0.,  0.,  0.,  0.],\n",
       "          [ 0.,  0.,  0.,  0.,  0.,  0.,  0.,  0.,  0.,  0.],\n",
       "          [ 0.,  0., -1.,  0.,  0.,  1.,  0.,  0.,  0.,  0.],\n",
       "          [ 0.,  0., -1.,  0.,  0.,  1.,  0.,  0.,  0.,  0.],\n",
       "          [ 0.,  0., -1.,  0.,  0.,  1.,  0.,  0.,  0.,  0.],\n",
       "          [ 0.,  0.,  0.,  0.,  0.,  0.,  0.,  0.,  0.,  0.],\n",
       "          [ 0.,  0.,  0.,  0.,  0.,  0.,  0.,  0.,  0.,  0.],\n",
       "          [ 0.,  0.,  0.,  0.,  0.,  0.,  0.,  0.,  0.,  0.],\n",
       "          [ 0.,  0.,  0.,  0.,  0.,  0.,  0.,  0.,  0.,  0.],\n",
       "          [ 0.,  0.,  0.,  0.,  0.,  0.,  0.,  0.,  0.,  0.]]], device='cuda:2'),\n",
       " torch.Size([4, 10, 10]))"
      ]
     },
     "execution_count": 8,
     "metadata": {},
     "output_type": "execute_result"
    }
   ],
   "source": [
    "vectors = torch.nn.functional.conv2d(input=arr[None, None, ...], weight=cust_filter[:, None], padding=1)\n",
    "vectors = vectors[0]\n",
    "vectors[0, 0, :] = 0\n",
    "vectors[1, :, -1] = 0\n",
    "vectors[2, -1, :] = 0\n",
    "vectors[3, :, 0] = 0\n",
    "vectors, vectors.shape"
   ]
  },
  {
   "cell_type": "code",
   "execution_count": 9,
   "metadata": {},
   "outputs": [
    {
     "data": {
      "image/png": "[encoded data removed]",
      "text/plain": [
       "<Figure size 1296x864 with 4 Axes>"
      ]
     },
     "metadata": {
      "needs_background": "light"
     },
     "output_type": "display_data"
    }
   ],
   "source": [
    "plt.rcParams['figure.figsize'] = [18, 12]\n",
    "for i in range(4):\n",
    "    plt.subplot(1, 4, i+1)\n",
    "    plt.imshow(vectors[i].cpu().numpy())"
   ]
  },
  {
   "cell_type": "code",
   "execution_count": 10,
   "metadata": {},
   "outputs": [],
   "source": [
    "square = torch.ones_like(vectors)\n",
    "square[:-1] += vectors[:-1] ** 2 + vectors[1:] ** 2\n",
    "square[-1] +=  vectors[0] ** 2 + vectors[-1] ** 2\n",
    "square = torch.sqrt(square) / 2"
   ]
  },
  {
   "cell_type": "code",
   "execution_count": 11,
   "metadata": {},
   "outputs": [
    {
     "data": {
      "text/plain": [
       "(tensor([[[0.5000, 0.5000, 0.5000, 0.5000, 0.5000, 0.5000, 0.5000, 0.5000,\n",
       "           0.5000, 0.5000],\n",
       "          [0.5000, 0.5000, 0.5000, 0.5000, 0.5000, 0.5000, 0.5000, 0.5000,\n",
       "           0.5000, 0.5000],\n",
       "          [0.5000, 0.7071, 0.7071, 0.7071, 0.8660, 0.5000, 0.5000, 0.5000,\n",
       "           0.5000, 0.5000],\n",
       "          [0.5000, 0.7071, 0.5000, 0.5000, 0.7071, 0.5000, 0.5000, 0.5000,\n",
       "           0.5000, 0.5000],\n",
       "          [0.5000, 0.7071, 0.5000, 0.5000, 0.7071, 0.5000, 0.5000, 0.5000,\n",
       "           0.5000, 0.5000],\n",
       "          [0.5000, 0.5000, 0.7071, 0.7071, 0.7071, 0.5000, 0.5000, 0.5000,\n",
       "           0.5000, 0.5000],\n",
       "          [0.5000, 0.5000, 0.5000, 0.5000, 0.5000, 0.5000, 0.5000, 0.5000,\n",
       "           0.5000, 0.5000],\n",
       "          [0.5000, 0.5000, 0.5000, 0.5000, 0.5000, 0.5000, 0.5000, 0.5000,\n",
       "           0.5000, 0.5000],\n",
       "          [0.5000, 0.5000, 0.5000, 0.5000, 0.5000, 0.5000, 0.5000, 0.5000,\n",
       "           0.5000, 0.5000],\n",
       "          [0.5000, 0.5000, 0.5000, 0.5000, 0.5000, 0.5000, 0.5000, 0.5000,\n",
       "           0.5000, 0.5000]],\n",
       " \n",
       "         [[0.5000, 0.5000, 0.5000, 0.5000, 0.5000, 0.5000, 0.5000, 0.5000,\n",
       "           0.5000, 0.5000],\n",
       "          [0.5000, 0.5000, 0.7071, 0.7071, 0.7071, 0.5000, 0.5000, 0.5000,\n",
       "           0.5000, 0.5000],\n",
       "          [0.5000, 0.7071, 0.5000, 0.5000, 0.7071, 0.5000, 0.5000, 0.5000,\n",
       "           0.5000, 0.5000],\n",
       "          [0.5000, 0.7071, 0.5000, 0.5000, 0.7071, 0.5000, 0.5000, 0.5000,\n",
       "           0.5000, 0.5000],\n",
       "          [0.5000, 0.7071, 0.7071, 0.7071, 0.8660, 0.5000, 0.5000, 0.5000,\n",
       "           0.5000, 0.5000],\n",
       "          [0.5000, 0.5000, 0.5000, 0.5000, 0.5000, 0.5000, 0.5000, 0.5000,\n",
       "           0.5000, 0.5000],\n",
       "          [0.5000, 0.5000, 0.5000, 0.5000, 0.5000, 0.5000, 0.5000, 0.5000,\n",
       "           0.5000, 0.5000],\n",
       "          [0.5000, 0.5000, 0.5000, 0.5000, 0.5000, 0.5000, 0.5000, 0.5000,\n",
       "           0.5000, 0.5000],\n",
       "          [0.5000, 0.5000, 0.5000, 0.5000, 0.5000, 0.5000, 0.5000, 0.5000,\n",
       "           0.5000, 0.5000],\n",
       "          [0.5000, 0.5000, 0.5000, 0.5000, 0.5000, 0.5000, 0.5000, 0.5000,\n",
       "           0.5000, 0.5000]],\n",
       " \n",
       "         [[0.5000, 0.5000, 0.5000, 0.5000, 0.5000, 0.5000, 0.5000, 0.5000,\n",
       "           0.5000, 0.5000],\n",
       "          [0.5000, 0.5000, 0.7071, 0.7071, 0.7071, 0.5000, 0.5000, 0.5000,\n",
       "           0.5000, 0.5000],\n",
       "          [0.5000, 0.5000, 0.7071, 0.5000, 0.5000, 0.7071, 0.5000, 0.5000,\n",
       "           0.5000, 0.5000],\n",
       "          [0.5000, 0.5000, 0.7071, 0.5000, 0.5000, 0.7071, 0.5000, 0.5000,\n",
       "           0.5000, 0.5000],\n",
       "          [0.5000, 0.5000, 0.8660, 0.7071, 0.7071, 0.7071, 0.5000, 0.5000,\n",
       "           0.5000, 0.5000],\n",
       "          [0.5000, 0.5000, 0.5000, 0.5000, 0.5000, 0.5000, 0.5000, 0.5000,\n",
       "           0.5000, 0.5000],\n",
       "          [0.5000, 0.5000, 0.5000, 0.5000, 0.5000, 0.5000, 0.5000, 0.5000,\n",
       "           0.5000, 0.5000],\n",
       "          [0.5000, 0.5000, 0.5000, 0.5000, 0.5000, 0.5000, 0.5000, 0.5000,\n",
       "           0.5000, 0.5000],\n",
       "          [0.5000, 0.5000, 0.5000, 0.5000, 0.5000, 0.5000, 0.5000, 0.5000,\n",
       "           0.5000, 0.5000],\n",
       "          [0.5000, 0.5000, 0.5000, 0.5000, 0.5000, 0.5000, 0.5000, 0.5000,\n",
       "           0.5000, 0.5000]],\n",
       " \n",
       "         [[0.5000, 0.5000, 0.5000, 0.5000, 0.5000, 0.5000, 0.5000, 0.5000,\n",
       "           0.5000, 0.5000],\n",
       "          [0.5000, 0.5000, 0.5000, 0.5000, 0.5000, 0.5000, 0.5000, 0.5000,\n",
       "           0.5000, 0.5000],\n",
       "          [0.5000, 0.5000, 0.8660, 0.7071, 0.7071, 0.7071, 0.5000, 0.5000,\n",
       "           0.5000, 0.5000],\n",
       "          [0.5000, 0.5000, 0.7071, 0.5000, 0.5000, 0.7071, 0.5000, 0.5000,\n",
       "           0.5000, 0.5000],\n",
       "          [0.5000, 0.5000, 0.7071, 0.5000, 0.5000, 0.7071, 0.5000, 0.5000,\n",
       "           0.5000, 0.5000],\n",
       "          [0.5000, 0.5000, 0.7071, 0.7071, 0.7071, 0.5000, 0.5000, 0.5000,\n",
       "           0.5000, 0.5000],\n",
       "          [0.5000, 0.5000, 0.5000, 0.5000, 0.5000, 0.5000, 0.5000, 0.5000,\n",
       "           0.5000, 0.5000],\n",
       "          [0.5000, 0.5000, 0.5000, 0.5000, 0.5000, 0.5000, 0.5000, 0.5000,\n",
       "           0.5000, 0.5000],\n",
       "          [0.5000, 0.5000, 0.5000, 0.5000, 0.5000, 0.5000, 0.5000, 0.5000,\n",
       "           0.5000, 0.5000],\n",
       "          [0.5000, 0.5000, 0.5000, 0.5000, 0.5000, 0.5000, 0.5000, 0.5000,\n",
       "           0.5000, 0.5000]]], device='cuda:2'),\n",
       " torch.Size([4, 10, 10]))"
      ]
     },
     "execution_count": 11,
     "metadata": {},
     "output_type": "execute_result"
    }
   ],
   "source": [
    "square, square.shape"
   ]
  },
  {
   "cell_type": "code",
   "execution_count": 12,
   "metadata": {},
   "outputs": [
    {
     "data": {
      "image/png": "[encoded data removed]",
      "text/plain": [
       "<Figure size 1296x864 with 4 Axes>"
      ]
     },
     "metadata": {
      "needs_background": "light"
     },
     "output_type": "display_data"
    }
   ],
   "source": [
    "for i in range(4):\n",
    "    plt.subplot(1, 4, i+1)\n",
    "    plt.imshow(square[i].cpu().numpy())"
   ]
  },
  {
   "cell_type": "code",
   "execution_count": 13,
   "metadata": {},
   "outputs": [],
   "source": [
    "square[0, 0, :] = 0\n",
    "square[1, :, -1] = 0\n",
    "square[2, -1, :] = 0\n",
    "square[3, :, 0] = 0"
   ]
  },
  {
   "cell_type": "code",
   "execution_count": 14,
   "metadata": {},
   "outputs": [],
   "source": [
    "vertex_area = square.sum(axis=0)"
   ]
  },
  {
   "cell_type": "code",
   "execution_count": 15,
   "metadata": {},
   "outputs": [
    {
     "data": {
      "text/plain": [
       "(tensor([[1.0000, 1.5000, 1.5000, 1.5000, 1.5000, 1.5000, 1.5000, 1.5000, 1.5000,\n",
       "          1.0000],\n",
       "         [1.5000, 2.0000, 2.4142, 2.4142, 2.4142, 2.0000, 2.0000, 2.0000, 2.0000,\n",
       "          1.5000],\n",
       "         [1.5000, 2.4142, 2.7802, 2.4142, 2.7802, 2.4142, 2.0000, 2.0000, 2.0000,\n",
       "          1.5000],\n",
       "         [1.5000, 2.4142, 2.4142, 2.0000, 2.4142, 2.4142, 2.0000, 2.0000, 2.0000,\n",
       "          1.5000],\n",
       "         [1.5000, 2.4142, 2.7802, 2.4142, 2.7802, 2.4142, 2.0000, 2.0000, 2.0000,\n",
       "          1.5000],\n",
       "         [1.5000, 2.0000, 2.4142, 2.4142, 2.4142, 2.0000, 2.0000, 2.0000, 2.0000,\n",
       "          1.5000],\n",
       "         [1.5000, 2.0000, 2.0000, 2.0000, 2.0000, 2.0000, 2.0000, 2.0000, 2.0000,\n",
       "          1.5000],\n",
       "         [1.5000, 2.0000, 2.0000, 2.0000, 2.0000, 2.0000, 2.0000, 2.0000, 2.0000,\n",
       "          1.5000],\n",
       "         [1.5000, 2.0000, 2.0000, 2.0000, 2.0000, 2.0000, 2.0000, 2.0000, 2.0000,\n",
       "          1.5000],\n",
       "         [1.0000, 1.5000, 1.5000, 1.5000, 1.5000, 1.5000, 1.5000, 1.5000, 1.5000,\n",
       "          1.0000]], device='cuda:2'),\n",
       " torch.Size([10, 10]))"
      ]
     },
     "execution_count": 15,
     "metadata": {},
     "output_type": "execute_result"
    }
   ],
   "source": [
    "vertex_area, vertex_area.shape"
   ]
  },
  {
   "cell_type": "code",
   "execution_count": 16,
   "metadata": {},
   "outputs": [
    {
     "data": {
      "text/plain": [
       "<matplotlib.image.AxesImage at 0x7fd0901e75e0>"
      ]
     },
     "execution_count": 16,
     "metadata": {},
     "output_type": "execute_result"
    },
    {
     "data": {
      "image/png": "[encoded data removed]",
      "text/plain": [
       "<Figure size 1296x864 with 1 Axes>"
      ]
     },
     "metadata": {
      "needs_background": "light"
     },
     "output_type": "display_data"
    }
   ],
   "source": [
    "plt.imshow(vertex_area.cpu().numpy())"
   ]
  },
  {
   "cell_type": "code",
   "execution_count": 17,
   "metadata": {},
   "outputs": [],
   "source": [
    "del square, arr\n",
    "torch.cuda.empty_cache()"
   ]
  },
  {
   "cell_type": "code",
   "execution_count": 28,
   "metadata": {},
   "outputs": [],
   "source": [
    "cotangens = torch.zeros_like(vectors)\n",
    "cotangens[0] = 1 / torch.tan(torch.acos((1 + vectors[3] ** 2 - vectors[3] * vectors[0]) / (torch.sqrt(2 + (vectors[0] - vectors[3]) ** 2) * torch.sqrt(1 + vectors[3] ** 2))))\n",
    "cotangens[0] += 1 / torch.tan(torch.acos((1 + vectors[1] ** 2 - vectors[1] * vectors[0]) / (torch.sqrt(2 + (vectors[0] - vectors[1]) ** 2) * torch.sqrt(1 + vectors[1] ** 2))))\n",
    "\n",
    "cotangens[1] = 1 / torch.tan(torch.acos((1 + vectors[0] ** 2 - vectors[0] * vectors[1]) / (torch.sqrt(2 + (vectors[1] - vectors[0]) ** 2) * torch.sqrt(1 + vectors[0] ** 2))))\n",
    "cotangens[1] += 1 / torch.tan(torch.acos((1 + vectors[2] ** 2 - vectors[2] * vectors[1]) / (torch.sqrt(2 + (vectors[1] - vectors[2]) ** 2) * torch.sqrt(1 + vectors[2] ** 2))))\n",
    "\n",
    "cotangens[2] = 1 / torch.tan(torch.acos((1 + vectors[3] ** 2 - vectors[3] * vectors[2]) / (torch.sqrt(2 + (vectors[2] - vectors[3]) ** 2) * torch.sqrt(1 + vectors[3] ** 2))))\n",
    "cotangens[2] += 1 / torch.tan(torch.acos((1 + vectors[1] ** 2 - vectors[1] * vectors[2]) / (torch.sqrt(2 + (vectors[2] - vectors[1]) ** 2) * torch.sqrt(1 + vectors[1] ** 2))))\n",
    "\n",
    "cotangens[3] = 1 / torch.tan(torch.acos((1 + vectors[0] ** 2 - vectors[0] * vectors[3]) / (torch.sqrt(2 + (vectors[3] - vectors[0]) ** 2) * torch.sqrt(1 + vectors[0] ** 2))))\n",
    "cotangens[3] += 1 / torch.tan(torch.acos((1 + vectors[2] ** 2 - vectors[2] * vectors[3]) / (torch.sqrt(2 + (vectors[3] - vectors[2]) ** 2) * torch.sqrt(1 + vectors[2] ** 2))))\n",
    "\n",
    "cotangens[0, 0, :] = 0\n",
    "cotangens[1, :, -1] = 0\n",
    "cotangens[2, -1, :] = 0\n",
    "cotangens[3, :, 0] = 0"
   ]
  },
  {
   "cell_type": "code",
   "execution_count": 29,
   "metadata": {},
   "outputs": [],
   "source": [
    "main_i = torch.arange(end=N, device=device)\n",
    "upper_edge_i = torch.arange(start=W, end=N)\n",
    "right_edge_i = main_i[cotangens[1].view(-1) != 0]\n",
    "left_edge_i = main_i[cotangens[3].view(-1) != 0]\n",
    "down_edge_i = torch.arange(start=0, end=N-W)"
   ]
  },
  {
   "cell_type": "code",
   "execution_count": 30,
   "metadata": {},
   "outputs": [],
   "source": [
    "main_v = cotangens.sum(axis=0).view(-1)\n",
    "upper_edge_v = cotangens[0].view(-1)[upper_edge_i]\n",
    "right_edge_v = cotangens[1].view(-1)[right_edge_i]\n",
    "down_edge_v = cotangens[2].view(-1)[down_edge_i]\n",
    "left_edge_v = cotangens[3].view(-1)[left_edge_i]"
   ]
  },
  {
   "cell_type": "code",
   "execution_count": 31,
   "metadata": {},
   "outputs": [],
   "source": [
    "cu.cuda.Device(2).use()\n",
    "\n",
    "main_v = cu.fromDlpack(to_dlpack(main_v))\n",
    "main_i = cu.fromDlpack(to_dlpack(main_i))\n",
    "\n",
    "upper_edge_v = cu.fromDlpack(to_dlpack(upper_edge_v))\n",
    "upper_edge_i = cu.fromDlpack(to_dlpack(upper_edge_i))\n",
    "\n",
    "right_edge_v = cu.fromDlpack(to_dlpack(right_edge_v))\n",
    "right_edge_i = cu.fromDlpack(to_dlpack(right_edge_i))\n",
    "\n",
    "down_edge_v = cu.fromDlpack(to_dlpack(down_edge_v))\n",
    "down_edge_i = cu.fromDlpack(to_dlpack(down_edge_i))\n",
    "\n",
    "\n",
    "left_edge_v = cu.fromDlpack(to_dlpack(left_edge_v))\n",
    "left_edge_i = cu.fromDlpack(to_dlpack(left_edge_i))"
   ]
  },
  {
   "cell_type": "code",
   "execution_count": 32,
   "metadata": {},
   "outputs": [
    {
     "data": {
      "text/plain": [
       "<cupyx.scipy.sparse.coo.coo_matrix at 0x7fd078b51a30>"
      ]
     },
     "execution_count": 32,
     "metadata": {},
     "output_type": "execute_result"
    }
   ],
   "source": [
    "scipy.sparse.dia() ((main_v, (main_i, main_i)), (N, N))"
   ]
  }
 ],
 "metadata": {
  "kernelspec": {
   "display_name": "py38",
   "language": "python",
   "name": "py38"
  },
  "language_info": {
   "codemirror_mode": {
    "name": "ipython",
    "version": 3
   },
   "file_extension": ".py",
   "mimetype": "text/x-python",
   "name": "python",
   "nbconvert_exporter": "python",
   "pygments_lexer": "ipython3",
   "version": "3.8.2"
  }
 },
 "nbformat": 4,
 "nbformat_minor": 4
}
