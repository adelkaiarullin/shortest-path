{
 "cells": [
  {
   "cell_type": "code",
   "execution_count": 1,
   "metadata": {},
   "outputs": [],
   "source": [
    "import numpy as np\n",
    "import torch\n",
    "from torch.utils.dlpack import to_dlpack\n",
    "import cupy as cu\n",
    "from cupyx import scipy\n",
    "import matplotlib.pyplot as plt\n",
    "import seaborn as sns\n",
    "import time"
   ]
  },
  {
   "cell_type": "code",
   "execution_count": 2,
   "metadata": {},
   "outputs": [],
   "source": [
    "%matplotlib inline"
   ]
  },
  {
   "cell_type": "code",
   "execution_count": 3,
   "metadata": {},
   "outputs": [],
   "source": [
    "import matplotlib as mpl\n",
    "# mpl.rc('image', cmap='gray')\n",
    "mpl.rc('figure', figsize = (32,16))"
   ]
  },
  {
   "cell_type": "code",
   "execution_count": 4,
   "metadata": {},
   "outputs": [
    {
     "data": {
      "text/plain": [
       "'cuda:1'"
      ]
     },
     "execution_count": 4,
     "metadata": {},
     "output_type": "execute_result"
    }
   ],
   "source": [
    "device = 'cuda:1' if torch.cuda.is_available() else 'cpu'\n",
    "\n",
    "cu.cuda.Device(1).use()\n",
    "device"
   ]
  },
  {
   "cell_type": "code",
   "execution_count": 5,
   "metadata": {},
   "outputs": [
    {
     "data": {
      "text/plain": [
       "tensor([[0., 0., 0.,  ..., 0., 0., 0.],\n",
       "        [0., 0., 0.,  ..., 0., 0., 0.],\n",
       "        [0., 0., 0.,  ..., 0., 0., 0.],\n",
       "        ...,\n",
       "        [0., 0., 0.,  ..., 0., 0., 0.],\n",
       "        [0., 0., 0.,  ..., 0., 0., 0.],\n",
       "        [0., 0., 0.,  ..., 0., 0., 0.]], device='cuda:1')"
      ]
     },
     "execution_count": 5,
     "metadata": {},
     "output_type": "execute_result"
    }
   ],
   "source": [
    "W = 1512\n",
    "H = 334\n",
    "N = W * H\n",
    "arr = torch.zeros(H, W, device=device, dtype=torch.float32)\n",
    "arr[25:50, 25:50] = 10# + torch.rand(25, 25) * 10\n",
    "arr[30:45, 30:45] = 30\n",
    "arr[35:40, 35:40] = 50\n",
    "arr[37:39, 37:39] = 60\n",
    "arr"
   ]
  },
  {
   "cell_type": "code",
   "execution_count": 6,
   "metadata": {},
   "outputs": [],
   "source": [
    "\n",
    "arr[20:60, 100:200] = 200\n"
   ]
  },
  {
   "cell_type": "code",
   "execution_count": 7,
   "metadata": {},
   "outputs": [
    {
     "data": {
      "text/plain": [
       "<matplotlib.image.AxesImage at 0x7f9d4801b630>"
      ]
     },
     "execution_count": 7,
     "metadata": {},
     "output_type": "execute_result"
    },
    {
     "data": {
      "image/png": "[encoded data removed]",
      "text/plain": [
       "<Figure size 2304x1152 with 1 Axes>"
      ]
     },
     "metadata": {
      "needs_background": "light"
     },
     "output_type": "display_data"
    }
   ],
   "source": [
    "plt.imshow(arr.cpu().numpy())"
   ]
  },
  {
   "cell_type": "code",
   "execution_count": 8,
   "metadata": {},
   "outputs": [],
   "source": [
    "cust_filter = torch.tensor([[[0, 1, 0], [0, -1, 0], [0, 0, 0]], \n",
    "                            [[0, 0, 0], [0, -1, 1], [0, 0, 0]],\n",
    "                            [[0, 0, 0], [0, -1, 0], [0, 1, 0]],\n",
    "                            [[0, 0, 0], [1, -1, 0], [0, 0, 0]]], device=device, dtype=torch.float32)"
   ]
  },
  {
   "cell_type": "code",
   "execution_count": 9,
   "metadata": {},
   "outputs": [
    {
     "data": {
      "text/plain": [
       "(tensor([[[ 0.,  1.,  0.],\n",
       "          [ 0., -1.,  0.],\n",
       "          [ 0.,  0.,  0.]],\n",
       " \n",
       "         [[ 0.,  0.,  0.],\n",
       "          [ 0., -1.,  1.],\n",
       "          [ 0.,  0.,  0.]],\n",
       " \n",
       "         [[ 0.,  0.,  0.],\n",
       "          [ 0., -1.,  0.],\n",
       "          [ 0.,  1.,  0.]],\n",
       " \n",
       "         [[ 0.,  0.,  0.],\n",
       "          [ 1., -1.,  0.],\n",
       "          [ 0.,  0.,  0.]]], device='cuda:1'),\n",
       " torch.Size([4, 3, 3]))"
      ]
     },
     "execution_count": 9,
     "metadata": {},
     "output_type": "execute_result"
    }
   ],
   "source": [
    "cust_filter, cust_filter.shape"
   ]
  },
  {
   "cell_type": "code",
   "execution_count": 10,
   "metadata": {},
   "outputs": [
    {
     "data": {
      "text/plain": [
       "(tensor([[[0., 0., 0.,  ..., 0., 0., 0.],\n",
       "          [0., 0., 0.,  ..., 0., 0., 0.],\n",
       "          [0., 0., 0.,  ..., 0., 0., 0.],\n",
       "          ...,\n",
       "          [0., 0., 0.,  ..., 0., 0., 0.],\n",
       "          [0., 0., 0.,  ..., 0., 0., 0.],\n",
       "          [0., 0., 0.,  ..., 0., 0., 0.]],\n",
       " \n",
       "         [[0., 0., 0.,  ..., 0., 0., 0.],\n",
       "          [0., 0., 0.,  ..., 0., 0., 0.],\n",
       "          [0., 0., 0.,  ..., 0., 0., 0.],\n",
       "          ...,\n",
       "          [0., 0., 0.,  ..., 0., 0., 0.],\n",
       "          [0., 0., 0.,  ..., 0., 0., 0.],\n",
       "          [0., 0., 0.,  ..., 0., 0., 0.]],\n",
       " \n",
       "         [[0., 0., 0.,  ..., 0., 0., 0.],\n",
       "          [0., 0., 0.,  ..., 0., 0., 0.],\n",
       "          [0., 0., 0.,  ..., 0., 0., 0.],\n",
       "          ...,\n",
       "          [0., 0., 0.,  ..., 0., 0., 0.],\n",
       "          [0., 0., 0.,  ..., 0., 0., 0.],\n",
       "          [0., 0., 0.,  ..., 0., 0., 0.]],\n",
       " \n",
       "         [[0., 0., 0.,  ..., 0., 0., 0.],\n",
       "          [0., 0., 0.,  ..., 0., 0., 0.],\n",
       "          [0., 0., 0.,  ..., 0., 0., 0.],\n",
       "          ...,\n",
       "          [0., 0., 0.,  ..., 0., 0., 0.],\n",
       "          [0., 0., 0.,  ..., 0., 0., 0.],\n",
       "          [0., 0., 0.,  ..., 0., 0., 0.]]], device='cuda:1'),\n",
       " torch.Size([4, 334, 1512]))"
      ]
     },
     "execution_count": 10,
     "metadata": {},
     "output_type": "execute_result"
    }
   ],
   "source": [
    "vectors = torch.nn.functional.conv2d(input=arr[None, None, ...], weight=cust_filter[:, None], padding=1)\n",
    "vectors = vectors[0]\n",
    "vectors[0, 0, :] = 0\n",
    "vectors[1, :, -1] = 0\n",
    "vectors[2, -1, :] = 0\n",
    "vectors[3, :, 0] = 0\n",
    "vectors, vectors.shape"
   ]
  },
  {
   "cell_type": "code",
   "execution_count": 11,
   "metadata": {},
   "outputs": [
    {
     "data": {
      "image/png": "[encoded data removed]",
      "text/plain": [
       "<Figure size 1296x864 with 4 Axes>"
      ]
     },
     "metadata": {
      "needs_background": "light"
     },
     "output_type": "display_data"
    }
   ],
   "source": [
    "plt.rcParams['figure.figsize'] = [18, 12]\n",
    "for i in range(4):\n",
    "    plt.subplot(1, 4, i+1)\n",
    "    plt.imshow(vectors[i].cpu().numpy())"
   ]
  },
  {
   "cell_type": "code",
   "execution_count": 12,
   "metadata": {},
   "outputs": [],
   "source": [
    "square = torch.ones_like(vectors)\n",
    "square[:-1] += vectors[:-1] ** 2 + vectors[1:] ** 2\n",
    "square[-1] +=  vectors[0] ** 2 + vectors[-1] ** 2\n",
    "square = torch.sqrt(square) / 2"
   ]
  },
  {
   "cell_type": "code",
   "execution_count": 13,
   "metadata": {},
   "outputs": [
    {
     "data": {
      "text/plain": [
       "(tensor([[[0.5000, 0.5000, 0.5000,  ..., 0.5000, 0.5000, 0.5000],\n",
       "          [0.5000, 0.5000, 0.5000,  ..., 0.5000, 0.5000, 0.5000],\n",
       "          [0.5000, 0.5000, 0.5000,  ..., 0.5000, 0.5000, 0.5000],\n",
       "          ...,\n",
       "          [0.5000, 0.5000, 0.5000,  ..., 0.5000, 0.5000, 0.5000],\n",
       "          [0.5000, 0.5000, 0.5000,  ..., 0.5000, 0.5000, 0.5000],\n",
       "          [0.5000, 0.5000, 0.5000,  ..., 0.5000, 0.5000, 0.5000]],\n",
       " \n",
       "         [[0.5000, 0.5000, 0.5000,  ..., 0.5000, 0.5000, 0.5000],\n",
       "          [0.5000, 0.5000, 0.5000,  ..., 0.5000, 0.5000, 0.5000],\n",
       "          [0.5000, 0.5000, 0.5000,  ..., 0.5000, 0.5000, 0.5000],\n",
       "          ...,\n",
       "          [0.5000, 0.5000, 0.5000,  ..., 0.5000, 0.5000, 0.5000],\n",
       "          [0.5000, 0.5000, 0.5000,  ..., 0.5000, 0.5000, 0.5000],\n",
       "          [0.5000, 0.5000, 0.5000,  ..., 0.5000, 0.5000, 0.5000]],\n",
       " \n",
       "         [[0.5000, 0.5000, 0.5000,  ..., 0.5000, 0.5000, 0.5000],\n",
       "          [0.5000, 0.5000, 0.5000,  ..., 0.5000, 0.5000, 0.5000],\n",
       "          [0.5000, 0.5000, 0.5000,  ..., 0.5000, 0.5000, 0.5000],\n",
       "          ...,\n",
       "          [0.5000, 0.5000, 0.5000,  ..., 0.5000, 0.5000, 0.5000],\n",
       "          [0.5000, 0.5000, 0.5000,  ..., 0.5000, 0.5000, 0.5000],\n",
       "          [0.5000, 0.5000, 0.5000,  ..., 0.5000, 0.5000, 0.5000]],\n",
       " \n",
       "         [[0.5000, 0.5000, 0.5000,  ..., 0.5000, 0.5000, 0.5000],\n",
       "          [0.5000, 0.5000, 0.5000,  ..., 0.5000, 0.5000, 0.5000],\n",
       "          [0.5000, 0.5000, 0.5000,  ..., 0.5000, 0.5000, 0.5000],\n",
       "          ...,\n",
       "          [0.5000, 0.5000, 0.5000,  ..., 0.5000, 0.5000, 0.5000],\n",
       "          [0.5000, 0.5000, 0.5000,  ..., 0.5000, 0.5000, 0.5000],\n",
       "          [0.5000, 0.5000, 0.5000,  ..., 0.5000, 0.5000, 0.5000]]],\n",
       "        device='cuda:1'),\n",
       " torch.Size([4, 334, 1512]))"
      ]
     },
     "execution_count": 13,
     "metadata": {},
     "output_type": "execute_result"
    }
   ],
   "source": [
    "square, square.shape"
   ]
  },
  {
   "cell_type": "code",
   "execution_count": 14,
   "metadata": {},
   "outputs": [
    {
     "data": {
      "image/png": "[encoded data removed]",
      "text/plain": [
       "<Figure size 1296x864 with 4 Axes>"
      ]
     },
     "metadata": {
      "needs_background": "light"
     },
     "output_type": "display_data"
    }
   ],
   "source": [
    "for i in range(4):\n",
    "    plt.subplot(1, 4, i+1)\n",
    "    plt.imshow(square[i].cpu().numpy())"
   ]
  },
  {
   "cell_type": "code",
   "execution_count": 15,
   "metadata": {},
   "outputs": [],
   "source": [
    "square[0, 0, :] = 0\n",
    "square[1, :, -1] = 0\n",
    "square[2, -1, :] = 0\n",
    "square[3, :, 0] = 0"
   ]
  },
  {
   "cell_type": "code",
   "execution_count": 16,
   "metadata": {},
   "outputs": [],
   "source": [
    "vertex_area = square.sum(axis=0)"
   ]
  },
  {
   "cell_type": "code",
   "execution_count": 17,
   "metadata": {},
   "outputs": [
    {
     "data": {
      "text/plain": [
       "(tensor([[1.0000, 1.5000, 1.5000,  ..., 1.5000, 1.5000, 1.0000],\n",
       "         [1.5000, 2.0000, 2.0000,  ..., 2.0000, 2.0000, 1.5000],\n",
       "         [1.5000, 2.0000, 2.0000,  ..., 2.0000, 2.0000, 1.5000],\n",
       "         ...,\n",
       "         [1.5000, 2.0000, 2.0000,  ..., 2.0000, 2.0000, 1.5000],\n",
       "         [1.5000, 2.0000, 2.0000,  ..., 2.0000, 2.0000, 1.5000],\n",
       "         [1.0000, 1.5000, 1.5000,  ..., 1.5000, 1.5000, 1.0000]],\n",
       "        device='cuda:1'),\n",
       " torch.Size([334, 1512]))"
      ]
     },
     "execution_count": 17,
     "metadata": {},
     "output_type": "execute_result"
    }
   ],
   "source": [
    "vertex_area, vertex_area.shape"
   ]
  },
  {
   "cell_type": "code",
   "execution_count": 18,
   "metadata": {},
   "outputs": [
    {
     "data": {
      "text/plain": [
       "<matplotlib.image.AxesImage at 0x7f9d40435e80>"
      ]
     },
     "execution_count": 18,
     "metadata": {},
     "output_type": "execute_result"
    },
    {
     "data": {
      "image/png": "[encoded data removed]",
      "text/plain": [
       "<Figure size 1296x864 with 1 Axes>"
      ]
     },
     "metadata": {
      "needs_background": "light"
     },
     "output_type": "display_data"
    }
   ],
   "source": [
    "plt.imshow(vertex_area.cpu().numpy())"
   ]
  },
  {
   "cell_type": "code",
   "execution_count": 19,
   "metadata": {},
   "outputs": [],
   "source": [
    "del square, arr\n",
    "torch.cuda.empty_cache()"
   ]
  },
  {
   "cell_type": "code",
   "execution_count": 20,
   "metadata": {},
   "outputs": [],
   "source": [
    "cotangens = torch.zeros_like(vectors)\n",
    "cotangens[0] = 1 / torch.tan(torch.acos((1 + vectors[3] ** 2 - vectors[3] * vectors[0]) / (torch.sqrt(2 + (vectors[0] - vectors[3]) ** 2) * torch.sqrt(1 + vectors[3] ** 2))))\n",
    "cotangens[0] += 1 / torch.tan(torch.acos((1 + vectors[1] ** 2 - vectors[1] * vectors[0]) / (torch.sqrt(2 + (vectors[0] - vectors[1]) ** 2) * torch.sqrt(1 + vectors[1] ** 2))))\n",
    "\n",
    "cotangens[1] = 1 / torch.tan(torch.acos((1 + vectors[0] ** 2 - vectors[0] * vectors[1]) / (torch.sqrt(2 + (vectors[1] - vectors[0]) ** 2) * torch.sqrt(1 + vectors[0] ** 2))))\n",
    "cotangens[1] += 1 / torch.tan(torch.acos((1 + vectors[2] ** 2 - vectors[2] * vectors[1]) / (torch.sqrt(2 + (vectors[1] - vectors[2]) ** 2) * torch.sqrt(1 + vectors[2] ** 2))))\n",
    "\n",
    "cotangens[2] = 1 / torch.tan(torch.acos((1 + vectors[3] ** 2 - vectors[3] * vectors[2]) / (torch.sqrt(2 + (vectors[2] - vectors[3]) ** 2) * torch.sqrt(1 + vectors[3] ** 2))))\n",
    "cotangens[2] += 1 / torch.tan(torch.acos((1 + vectors[1] ** 2 - vectors[1] * vectors[2]) / (torch.sqrt(2 + (vectors[2] - vectors[1]) ** 2) * torch.sqrt(1 + vectors[1] ** 2))))\n",
    "\n",
    "cotangens[3] = 1 / torch.tan(torch.acos((1 + vectors[0] ** 2 - vectors[0] * vectors[3]) / (torch.sqrt(2 + (vectors[3] - vectors[0]) ** 2) * torch.sqrt(1 + vectors[0] ** 2))))\n",
    "cotangens[3] += 1 / torch.tan(torch.acos((1 + vectors[2] ** 2 - vectors[2] * vectors[3]) / (torch.sqrt(2 + (vectors[3] - vectors[2]) ** 2) * torch.sqrt(1 + vectors[2] ** 2))))\n",
    "\n",
    "cotangens[0, 0, :] = 0\n",
    "cotangens[1, :, -1] = 0\n",
    "cotangens[2, -1, :] = 0\n",
    "cotangens[3, :, 0] = 0"
   ]
  },
  {
   "cell_type": "code",
   "execution_count": 21,
   "metadata": {},
   "outputs": [],
   "source": [
    "main_i = torch.arange(end=N, device=device)\n",
    "upper_edge_i = torch.arange(start=W, end=N, device=device)\n",
    "right_edge_i = main_i[cotangens[1].view(-1) != 0]\n",
    "left_edge_i = main_i[cotangens[3].view(-1) != 0]\n",
    "down_edge_i = torch.arange(start=0, end=N-W, device=device)"
   ]
  },
  {
   "cell_type": "code",
   "execution_count": 22,
   "metadata": {},
   "outputs": [],
   "source": [
    "main_v = cotangens.sum(axis=0).view(-1)\n",
    "upper_edge_v = cotangens[0].view(-1)[upper_edge_i]\n",
    "right_edge_v = cotangens[1].view(-1)[right_edge_i]\n",
    "down_edge_v = cotangens[2].view(-1)[down_edge_i]\n",
    "left_edge_v = cotangens[3].view(-1)[left_edge_i]"
   ]
  },
  {
   "cell_type": "code",
   "execution_count": 23,
   "metadata": {},
   "outputs": [],
   "source": [
    "# cu.cuda.Device(0).use()\n",
    "\n",
    "main_v = cu.fromDlpack(to_dlpack(main_v))\n",
    "main_i = cu.fromDlpack(to_dlpack(main_i))\n",
    "\n",
    "upper_edge_v = cu.fromDlpack(to_dlpack(upper_edge_v))\n",
    "upper_edge_i = cu.fromDlpack(to_dlpack(upper_edge_i))\n",
    "\n",
    "right_edge_v = cu.fromDlpack(to_dlpack(right_edge_v))\n",
    "right_edge_i = cu.fromDlpack(to_dlpack(right_edge_i))\n",
    "\n",
    "down_edge_v = cu.fromDlpack(to_dlpack(down_edge_v))\n",
    "down_edge_i = cu.fromDlpack(to_dlpack(down_edge_i))\n",
    "\n",
    "\n",
    "left_edge_v = cu.fromDlpack(to_dlpack(left_edge_v))\n",
    "left_edge_i = cu.fromDlpack(to_dlpack(left_edge_i))"
   ]
  },
  {
   "cell_type": "code",
   "execution_count": 24,
   "metadata": {},
   "outputs": [],
   "source": [
    "upper_m = scipy.sparse.coo_matrix((upper_edge_v / 2, (upper_edge_i, main_i[:-W])), shape=(N, N))\n",
    "right_m = scipy.sparse.coo_matrix((right_edge_v / 2, (right_edge_i, right_edge_i + 1)), shape=(N, N))\n",
    "down_m = scipy.sparse.coo_matrix((down_edge_v / 2, (down_edge_i, main_i[W:])), shape=(N, N))\n",
    "left_m = scipy.sparse.coo_matrix((left_edge_v / 2, (left_edge_i, left_edge_i - 1)), shape=(N, N))\n",
    "main_m = scipy.sparse.diags(-main_v / 2)"
   ]
  },
  {
   "cell_type": "code",
   "execution_count": 25,
   "metadata": {},
   "outputs": [],
   "source": [
    "L = main_m + upper_m + right_m + down_m + left_m"
   ]
  },
  {
   "cell_type": "code",
   "execution_count": 26,
   "metadata": {},
   "outputs": [],
   "source": [
    "M = scipy.sparse.diags(cu.fromDlpack(to_dlpack(vertex_area.view(-1) / 3)))"
   ]
  },
  {
   "cell_type": "code",
   "execution_count": 27,
   "metadata": {},
   "outputs": [
    {
     "data": {
      "text/plain": [
       "(dtype('float32'), dtype('float32'))"
      ]
     },
     "execution_count": 27,
     "metadata": {},
     "output_type": "execute_result"
    }
   ],
   "source": [
    "M.dtype, L.dtype"
   ]
  },
  {
   "cell_type": "code",
   "execution_count": 28,
   "metadata": {},
   "outputs": [
    {
     "data": {
      "text/plain": [
       "dtype('float32')"
      ]
     },
     "execution_count": 28,
     "metadata": {},
     "output_type": "execute_result"
    }
   ],
   "source": [
    "b = cu.zeros(N, dtype=cu.float32)\n",
    "b[50 * W + 50] = 1\n",
    "# b[3*W+20] = 1\n",
    "b.dtype"
   ]
  },
  {
   "cell_type": "code",
   "execution_count": 29,
   "metadata": {},
   "outputs": [],
   "source": [
    "del main_m, upper_m, right_m, down_m, left_m\n",
    "del vertex_area\n",
    "del main_v, main_i, upper_edge_v, upper_edge_i, right_edge_v, right_edge_i, down_edge_v, down_edge_i, left_edge_v, left_edge_i\n",
    "torch.cuda.empty_cache()"
   ]
  },
  {
   "cell_type": "code",
   "execution_count": 30,
   "metadata": {},
   "outputs": [],
   "source": [
    "TTT = 20"
   ]
  },
  {
   "cell_type": "code",
   "execution_count": 31,
   "metadata": {},
   "outputs": [
    {
     "data": {
      "text/plain": [
       "31.323725938796997"
      ]
     },
     "execution_count": 31,
     "metadata": {},
     "output_type": "execute_result"
    },
    {
     "data": {
      "image/png": "[encoded data removed]",
      "text/plain": [
       "<Figure size 1296x864 with 2 Axes>"
      ]
     },
     "metadata": {
      "needs_background": "light"
     },
     "output_type": "display_data"
    }
   ],
   "source": [
    "start = time.time()\n",
    "T = 500\n",
    "u = scipy.sparse.linalg.lsqr(M - T * L, b)\n",
    "u = u[0]\n",
    "sns.heatmap(cu.asnumpy((-T ** 0.5 * cu.log(u)).reshape(H, W)))\n",
    "end = time.time()\n",
    "end - start"
   ]
  },
  {
   "cell_type": "markdown",
   "metadata": {},
   "source": [
    "# u = scipy.sparse.linalg.lsqr(M - L, b)\n",
    "# u = u[0]\n",
    "start = time.time()\n",
    "\n",
    "for i in range(4):\n",
    "    u = scipy.sparse.linalg.lsqr(M - (0.1 +  TTT * i) * L, b)\n",
    "    u = u[0]\n",
    "    plt.subplot(2, 2, 1 + i)\n",
    "    sns.heatmap(cu.asnumpy((-(0.1 +  TTT * i) ** 0.5 * cu.log(u)).reshape(H, W)))\n",
    "\n",
    "end = time.time()\n",
    "end - start\n",
    "#     del u\n",
    "#     torch.cuda.empty_cache()"
   ]
  },
  {
   "cell_type": "markdown",
   "metadata": {},
   "source": [
    "(u == 0).sum(), u.shape[0]"
   ]
  },
  {
   "cell_type": "markdown",
   "metadata": {},
   "source": [
    "# _ = plt.hist(cu.asnumpy(u.reshape(H, W).clip(0, 0.1)))"
   ]
  },
  {
   "cell_type": "markdown",
   "metadata": {},
   "source": [
    "vectors = cu.fromDlpack(to_dlpack(vectors))\n",
    "e1 = cu.zeros(shape=(3, H, W), dtype=cu.float32)\n",
    "e2 = cu.zeros(shape=(3, H, W,), dtype=cu.float32)\n",
    "\n",
    "e1[0, :, :] = -1\n",
    "e1[2, :, :] = vectors[0]\n",
    "e2[1:, :,] = 1\n",
    "e2[2:, :,] = vectors[1]\n",
    "cross_n1 = cu.cross(e1, e2, axis=0)\n",
    "\n",
    "e1[...] = 0\n",
    "e2[...] = 0\n",
    "\n",
    "e1[1, :, :] = 1\n",
    "e1[2, :, :] = vectors[1]\n",
    "e2[0:, :,] = 1\n",
    "e2[2:, :,] = vectors[2]\n",
    "cross_n2 = cu.cross(e1, e2, axis=0)\n",
    "\n",
    "e1[...] = 0\n",
    "e2[...] = 0\n",
    "\n",
    "e1[0, :, :] = 1\n",
    "e1[2, :, :] = vectors[2]\n",
    "e2[1:, :,] = -1\n",
    "e2[2:, :,] = vectors[3]\n",
    "cross_n3 = cu.cross(e1, e2, axis=0)\n",
    "\n",
    "e1[...] = 0\n",
    "e2[...] = 0\n",
    "\n",
    "e1[1, :, :] = -1\n",
    "e1[2, :, :] = vectors[3]\n",
    "e2[0:, :,] = -1\n",
    "e2[2:, :,] = vectors[0]\n",
    "cross_n4 = cu.cross(e1, e2, axis=0)"
   ]
  },
  {
   "cell_type": "code",
   "execution_count": null,
   "metadata": {},
   "outputs": [],
   "source": []
  },
  {
   "cell_type": "code",
   "execution_count": null,
   "metadata": {},
   "outputs": [],
   "source": []
  }
 ],
 "metadata": {
  "kernelspec": {
   "display_name": "Python (heat_method)",
   "language": "python",
   "name": "heat_method"
  },
  "language_info": {
   "codemirror_mode": {
    "name": "ipython",
    "version": 3
   },
   "file_extension": ".py",
   "mimetype": "text/x-python",
   "name": "python",
   "nbconvert_exporter": "python",
   "pygments_lexer": "ipython3",
   "version": "3.6.12"
  }
 },
 "nbformat": 4,
 "nbformat_minor": 4
}
